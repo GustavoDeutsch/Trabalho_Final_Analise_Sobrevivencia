{
 "cells": [
  {
   "cell_type": "markdown",
   "metadata": {},
   "source": [
    "# **Predição de Sobrevivência de Pacientes com Cirrose**"
   ]
  },
  {
   "cell_type": "markdown",
   "metadata": {},
   "source": [
    "**[Base de Dados proveniente do Kaggle](https://www.kaggle.com/datasets/joebeachcapital/cirrhosis-patient-survival-prediction)**"
   ]
  },
  {
   "cell_type": "markdown",
   "metadata": {
    "vscode": {
     "languageId": "plaintext"
    }
   },
   "source": [
    "## **Objetivo**"
   ]
  },
  {
   "cell_type": "markdown",
   "metadata": {},
   "source": [
    "**Investigar o efeito do tratamento utilizando a droga D-penicillamine**"
   ]
  },
  {
   "cell_type": "markdown",
   "metadata": {},
   "source": [
    "## **Sobre o Dataset**"
   ]
  },
  {
   "cell_type": "markdown",
   "metadata": {},
   "source": [
    "**Essa base de dados contém dados de pacientes da [Mayo Clinic](https://www.mayoclinic.org/) que participaram de um estudo entre os anos de 1974 e 1984 para análisar a efetividade da droga D-penicillamine no tratamento de pacientes com Cirrose Hepática**\n",
    "* **Tamanho da Amostra**: Inicialmente haviam 424 pacientes, porém somente 312 pacientes optaram por participarem do teste, foi feito o acompanhamento dos 112 restantes dos quais 6 rapidamente ficaram irrastreáveis. (para essa análise será utilizado a informação dos 312 pacientes que optaram por participar do teste)\n",
    "* A base consiste em 17 parâmetros clínicos e o status do paciente (0 = Morto, 1 = Censurado, 2 = Censurado por transplante de fígado)"
   ]
  },
  {
   "cell_type": "markdown",
   "metadata": {
    "vscode": {
     "languageId": "plaintext"
    }
   },
   "source": [
    "### **Tabela de Variáveis**"
   ]
  },
  {
   "cell_type": "markdown",
   "metadata": {},
   "source": [
    "|Variable Name|Role|Type|Demographic|Description|Units|Missing Values|\n",
    "|-------------|----|----|-----------|-----------|-----|--------------|\n",
    "|ID|ID|Integer||unique identifier||no|\n",
    "|N_Days|Other|Integer||number of days between registration and the earlier of death, transplantation, or study analysis time in July 1986||no|\n",
    "|Status|Target|Categorical||status of the patient C (censored), CL (censored due to liver tx), or D (death)||no|\n",
    "|Drug|Feature|Categorical||type of drug D-penicillamine or placebo||yes|\n",
    "|Age|Feature|Integer|Age|age|days|no|\n",
    "|Sex|Feature|Categorical|Sex|M (male) or F (Female)||no|\n",
    "|Ascites|Feature|Categorical||presence of ascites N (No) or Y (Yes)||yes|\n",
    "|Hepatomegaly|Feature|Categorical||presence of hepatomegaly N (No) or Y (Yes)||yes|\n",
    "|Spiders|Feature|Categorical||presence of spiders N (No) or Y (Yes)||yes|\n",
    "|Edema|Feature|Categorical||presence of edema N (no edema and no diuretic therapy for edema), S (edema present without diuretics, or edema resolved by diuretics), or Y (edema despite diuretic therapy)||no|\n",
    "|Bilirubin|Feature|Constinuos||serum bilirubin|mg/dl|no|\n",
    "|Cholesterol|Feature|Integer||serum cholesterol|mg/dl|yes|\n",
    "|Albumin|Feature|Continuous||albumin|gm/dl|no|\n",
    "|Copper|Feature|Integer||urine copper|ug/day|yes|\n",
    "|Alk_Phos|Feature|Continuous||alkaline phosphatase|U/liter|yes|\n",
    "|SGOT|Feature|Continuous||SGOT|U/ml|yes|\n",
    "|Tryglicerides|Feature|Integer||tryglicerides||yes|\n",
    "|Platelets|Feature|Integer||platelets per cubic|ml/1000/yes|\n",
    "|Prothrombin|Feature|Continuous||prothrombin time|s|yes|\n",
    "|Stage|Feature|Categorical||histologic stage of disease (1,2,3 or 4)||yes|"
   ]
  },
  {
   "cell_type": "markdown",
   "metadata": {},
   "source": [
    "## **Análise Exploratória dos Dados**"
   ]
  },
  {
   "cell_type": "code",
   "execution_count": 1,
   "metadata": {},
   "outputs": [],
   "source": [
    "import numpy as np\n",
    "import pandas as pd\n",
    "import matplotlib.pyplot as plt\n",
    "import seaborn as sns\n",
    "\n",
    "sns.set_theme()"
   ]
  },
  {
   "cell_type": "code",
   "execution_count": 51,
   "metadata": {},
   "outputs": [
    {
     "data": {
      "text/plain": [
       "ID                 int64\n",
       "N_Days             int64\n",
       "Status            object\n",
       "Drug              object\n",
       "Age                int64\n",
       "Sex               object\n",
       "Ascites           object\n",
       "Hepatomegaly      object\n",
       "Spiders           object\n",
       "Edema             object\n",
       "Bilirubin        float64\n",
       "Cholesterol      float64\n",
       "Albumin          float64\n",
       "Copper           float64\n",
       "Alk_Phos         float64\n",
       "SGOT             float64\n",
       "Tryglicerides    float64\n",
       "Platelets        float64\n",
       "Prothrombin      float64\n",
       "Stage            float64\n",
       "dtype: object"
      ]
     },
     "execution_count": 51,
     "metadata": {},
     "output_type": "execute_result"
    }
   ],
   "source": [
    "dataset = pd.read_csv('cirrhosis.csv')\n",
    "dataset.dtypes"
   ]
  },
  {
   "cell_type": "code",
   "execution_count": 52,
   "metadata": {},
   "outputs": [],
   "source": [
    "# Remoção do Campo ID pois o mesmo não é útil para a análise\n",
    "dataset = dataset.drop(columns=['ID'])\n",
    "\n",
    "\n",
    "# Remoção dos Pacientes que não fizeram parte do teste\n",
    "dataset = dataset[dataset.Drug.notna()]\n"
   ]
  },
  {
   "cell_type": "code",
   "execution_count": 53,
   "metadata": {},
   "outputs": [
    {
     "name": "stdout",
     "output_type": "stream",
     "text": [
      "Quantidade antes da remoção: 312\n",
      "Qauntidade após remoção: 276\n",
      "Porcentagem de registros removidos: 11.54%\n"
     ]
    }
   ],
   "source": [
    "# Como sabemos que alguns campos tem valores em branco (mesmo com os pacientes que participaram do teste) temos 2 opções: \n",
    "# 1 - Remover todos os registros com valores em branco\n",
    "# 2 - Preencher os valores em branco (preenchimento com média, último valor ou primeiro valor)\n",
    "# Para essa análise vou optar pela remoção dos registros com valores em branco\n",
    "\n",
    "quantidade_antes = len(dataset)\n",
    "print(f'Quantidade antes da remoção: {quantidade_antes}')\n",
    "dataset = dataset.dropna()\n",
    "quantidade_depois = len(dataset)\n",
    "print(f'Qauntidade após remoção: {quantidade_depois}')\n",
    "print(f'Porcentagem de registros removidos: {100-(quantidade_depois/quantidade_antes)*100:.2f}%')"
   ]
  },
  {
   "cell_type": "code",
   "execution_count": 54,
   "metadata": {},
   "outputs": [
    {
     "data": {
      "text/plain": [
       "N_Days              int64\n",
       "Status           category\n",
       "Drug             category\n",
       "Age                 int64\n",
       "Sex              category\n",
       "Ascites          category\n",
       "Hepatomegaly     category\n",
       "Spiders          category\n",
       "Edema            category\n",
       "Bilirubin         float64\n",
       "Cholesterol         int64\n",
       "Albumin           float64\n",
       "Copper              int64\n",
       "Alk_Phos          float64\n",
       "SGOT              float64\n",
       "Tryglicerides       int64\n",
       "Platelets           int64\n",
       "Prothrombin       float64\n",
       "Stage            category\n",
       "dtype: object"
      ]
     },
     "execution_count": 54,
     "metadata": {},
     "output_type": "execute_result"
    }
   ],
   "source": [
    "campos_correcao_tipo = ['Status', 'Drug', 'Sex', 'Ascites', 'Hepatomegaly', 'Spiders', 'Edema', 'Cholesterol', 'Copper', 'Tryglicerides', 'Platelets', 'Stage']\n",
    "correcao_tipo = ['category' , 'category', 'category', 'category', 'category', 'category', 'category', 'int64', 'int64', 'int64', 'int64', 'category']\n",
    "\n",
    "try:\n",
    "    for campo, tipo in zip(campos_correcao_tipo, correcao_tipo):\n",
    "        dataset[campo] = dataset[campo].astype(tipo)\n",
    "except:\n",
    "    print(campo)\n",
    "\n",
    "dataset.dtypes"
   ]
  },
  {
   "cell_type": "code",
   "execution_count": null,
   "metadata": {},
   "outputs": [],
   "source": []
  }
 ],
 "metadata": {
  "kernelspec": {
   "display_name": "venv",
   "language": "python",
   "name": "python3"
  },
  "language_info": {
   "codemirror_mode": {
    "name": "ipython",
    "version": 3
   },
   "file_extension": ".py",
   "mimetype": "text/x-python",
   "name": "python",
   "nbconvert_exporter": "python",
   "pygments_lexer": "ipython3",
   "version": "3.11.0"
  }
 },
 "nbformat": 4,
 "nbformat_minor": 2
}
